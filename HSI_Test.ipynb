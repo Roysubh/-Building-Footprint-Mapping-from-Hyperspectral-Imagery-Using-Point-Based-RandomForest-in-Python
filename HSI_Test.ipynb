{
 "cells": [
  {
   "cell_type": "code",
   "execution_count": null,
   "id": "568ff67b-d15f-4974-8b16-9b9e2b2e02c8",
   "metadata": {},
   "outputs": [
    {
     "name": "stdout",
     "output_type": "stream",
     "text": [
      "Normalizing 426 bands and removing flat ones...\n"
     ]
    }
   ],
   "source": [
    "import rasterio\n",
    "import numpy as np\n",
    "\n",
    "input_path = r\"E:\\Hyperspectral\\DataOutput\\Test\\NEON_HSI_2021.tif\"\n",
    "output_path = r\"E:\\Hyperspectral\\DataOutput\\Test\\NEON_HSI_2021_Scaled.tif\"\n",
    "\n",
    "with rasterio.open(input_path) as src:\n",
    "    profile = src.profile\n",
    "    height, width = src.height, src.width\n",
    "\n",
    "    valid_bands = []\n",
    "    scaled_bands = []\n",
    "\n",
    "    print(f\"Normalizing {src.count} bands and removing flat ones...\")\n",
    "    for i in range(1, src.count + 1):\n",
    "        band = src.read(i).astype('float32')\n",
    "        band_min = band.min()\n",
    "        band_max = band.max()\n",
    "\n",
    "        if band_max - band_min < 1e-6:\n",
    "            print(f\"Band {i}: Skipped (flat or invalid)\")\n",
    "            continue\n",
    "\n",
    "        scaled_band = (band - band_min) / (band_max - band_min)\n",
    "        scaled_bands.append(scaled_band)\n",
    "        valid_bands.append(i)\n",
    "\n",
    "    scaled_data = np.stack(scaled_bands).astype('float32')\n",
    "\n",
    "    profile.update(dtype='float32', count=len(valid_bands))\n",
    "\n",
    "with rasterio.open(output_path, 'w', **profile) as dst:\n",
    "    dst.write(scaled_data)\n",
    "\n",
    "print(f\"Saved {len(valid_bands)} valid normalized bands to:\\n{output_path}\")\n",
    "print(f\"Skipped {src.count - len(valid_bands)} flat/invalid bands.\")\n"
   ]
  },
  {
   "cell_type": "code",
   "execution_count": 6,
   "id": "20952b68-1679-4737-b27c-6f8c9a9c6dd9",
   "metadata": {},
   "outputs": [
    {
     "name": "stdout",
     "output_type": "stream",
     "text": [
      "Selected bands saved successfully to: E:\\Hyperspectral\\DataOutput\\Test\\NEON_HSI_10Bands.tif\n"
     ]
    }
   ],
   "source": [
    "import rasterio\n",
    "from rasterio import windows\n",
    "import numpy as np\n",
    "\n",
    "image_path = r\"E:\\Hyperspectral\\DataOutput\\Test\\NEON_HSI_2021_Scaled.tif\"\n",
    "output_path = r\"E:\\Hyperspectral\\DataOutput\\Test\\NEON_HSI_10Bands.tif\"\n",
    "\n",
    "# ========== Bands to Extract (1-based indexing) ==========\n",
    "band_numbers = [59, 150, 211, 212, 213, 214, 228, 369, 371, 372]\n",
    "\n",
    "with rasterio.open(image_path) as src:\n",
    "    profile = src.profile\n",
    "    profile.update(count=len(band_numbers)) \n",
    "    \n",
    "    # Read selected bands\n",
    "    selected_bands = []\n",
    "    for b in band_numbers:\n",
    "        band_data = src.read(b)\n",
    "        selected_bands.append(band_data)\n",
    "    \n",
    "    selected_bands = np.stack(selected_bands)\n",
    "\n",
    "    with rasterio.open(output_path, 'w', **profile) as dst:\n",
    "        dst.write(selected_bands)\n",
    "\n",
    "print(f\"Selected bands saved successfully to:\", output_path)\n"
   ]
  },
  {
   "cell_type": "code",
   "execution_count": 7,
   "id": "a4a5d0e4-9d71-4091-b83c-0797860d99e9",
   "metadata": {},
   "outputs": [
    {
     "name": "stdout",
     "output_type": "stream",
     "text": [
      "✅ Prediction GeoTIFF saved: E:\\Hyperspectral\\DataOutput\\Test\\RF_TestPrediction.tif\n",
      "✅ Built-up shapefile saved: E:\\Hyperspectral\\DataOutput\\Test\\Test_Builtup.shp\n"
     ]
    }
   ],
   "source": [
    "import numpy as np\n",
    "import rasterio\n",
    "import joblib\n",
    "from rasterio.features import shapes\n",
    "from shapely.geometry import shape\n",
    "import geopandas as gpd\n",
    "\n",
    "test_image_path = r\"E:\\Hyperspectral\\DataOutput\\Test\\NEON_HSI_10Bands.tif\"\n",
    "model_path = r\"E:\\Hyperspectral\\DataOutput\\rf_model.pkl\"\n",
    "test_output_path = r\"E:\\Hyperspectral\\DataOutput\\Test\\RF_TestPrediction.tif\"\n",
    "test_shapefile_path = r\"E:\\Hyperspectral\\DataOutput\\Test\\Test_Builtup.shp\"\n",
    "\n",
    "rf = joblib.load(model_path)\n",
    "builtup_class_value = 1  \n",
    "\n",
    "with rasterio.open(test_image_path) as src:\n",
    "    img = src.read()  # Shape: (bands, rows, cols)\n",
    "    meta = src.meta.copy()\n",
    "    transform = src.transform\n",
    "    crs = src.crs\n",
    "    n_bands, n_rows, n_cols = img.shape\n",
    "\n",
    "flat_pixels = img.reshape(n_bands, -1).T\n",
    "nodata_mask = np.all(flat_pixels == 0, axis=1)\n",
    "\n",
    "valid_pixels = flat_pixels[~nodata_mask]\n",
    "predicted = rf.predict(valid_pixels)\n",
    "\n",
    "# Fill full image\n",
    "classified = np.full(flat_pixels.shape[0], -1, dtype=np.int16)\n",
    "classified[~nodata_mask] = predicted\n",
    "classified = classified.reshape(n_rows, n_cols)\n",
    "\n",
    "meta.update({'count': 1, 'dtype': 'int16'})\n",
    "with rasterio.open(test_output_path, 'w', **meta) as dst:\n",
    "    dst.write(classified, 1)\n",
    "print(\"Prediction GeoTIFF saved: {test_output_path}\")\n",
    "\n",
    "proba = rf.predict_proba(valid_pixels)\n",
    "class_labels = rf.classes_\n",
    "builtup_index = np.where(class_labels == builtup_class_value)[0][0]\n",
    "builtup_proba = proba[:, builtup_index]\n",
    "threshold_mask = builtup_proba > 0.5\n",
    "\n",
    "thresholded_builtup = np.zeros(flat_pixels.shape[0], dtype=np.uint8)\n",
    "thresholded_builtup[~nodata_mask] = threshold_mask.astype(np.uint8)\n",
    "thresholded_builtup = thresholded_builtup.reshape(n_rows, n_cols)\n",
    "\n",
    "results = (\n",
    "    {'properties': {'class': 1}, 'geometry': shape(geom)}\n",
    "    for geom, val in shapes(thresholded_builtup.astype(np.uint8), mask=(thresholded_builtup == 1), transform=transform)\n",
    ")\n",
    "gdf = gpd.GeoDataFrame.from_features(list(results), crs=crs)\n",
    "\n",
    "\n",
    "gdf[\"area\"] = gdf.geometry.area\n",
    "min_area = 50 \n",
    "gdf = gdf[gdf[\"area\"] > min_area]\n",
    "\n",
    "\n",
    "gdf.to_file(test_shapefile_path)\n",
    "print(f\"Built-up shapefile saved: {test_shapefile_path}\")\n"
   ]
  },
  {
   "cell_type": "code",
   "execution_count": 10,
   "id": "97874886-326b-448b-a2fe-684e96a167d5",
   "metadata": {},
   "outputs": [
    {
     "name": "stdout",
     "output_type": "stream",
     "text": [
      "✅ Rectified building polygons saved to: E:\\Hyperspectral\\DataOutput\\Test\\rectified_buildings.shp\n"
     ]
    }
   ],
   "source": [
    "import geopandas as gpd\n",
    "from shapely.geometry import Polygon\n",
    "from shapely import minimum_rotated_rectangle\n",
    "\n",
    "\n",
    "input_path = r\"E:\\Hyperspectral\\DataOutput\\Test\\Test_Builtup_Final_.shp\"\n",
    "gdf = gpd.read_file(input_path)\n",
    "\n",
    "\n",
    "if gdf.crs.is_geographic:\n",
    "    gdf = gdf.to_crs(epsg=32612)  \n",
    "\n",
    "\n",
    "gdf['geometry'] = gdf['geometry'].apply(lambda geom: minimum_rotated_rectangle(geom))\n",
    "\n",
    "\n",
    "output_path = r\"E:\\Hyperspectral\\DataOutput\\Test\\rectified_buildings.shp\"\n",
    "gdf.to_file(output_path)\n",
    "\n",
    "print(f\"Rectified building polygons saved to:\", output_path)\n"
   ]
  }
 ],
 "metadata": {
  "kernelspec": {
   "display_name": "HSI",
   "language": "python",
   "name": "hsi"
  },
  "language_info": {
   "codemirror_mode": {
    "name": "ipython",
    "version": 3
   },
   "file_extension": ".py",
   "mimetype": "text/x-python",
   "name": "python",
   "nbconvert_exporter": "python",
   "pygments_lexer": "ipython3",
   "version": "3.11.13"
  }
 },
 "nbformat": 4,
 "nbformat_minor": 5
}
